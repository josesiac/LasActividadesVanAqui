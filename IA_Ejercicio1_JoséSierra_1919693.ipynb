{
  "cells": [
    {
      "cell_type": "markdown",
      "source": [
        "A2: Ejercicios Básicos en Python, \n",
        "Nombre: José Ramón Sierra Acevedo\n",
        "Matricula: 1919693\n",
        "Hora: N1-N3"
      ],
      "metadata": {
        "id": "eXU5i1PayCWe"
      }
    },
    {
      "cell_type": "code",
      "execution_count": 135,
      "metadata": {
        "colab": {
          "base_uri": "https://localhost:8080/"
        },
        "id": "CEhAebtbgujb",
        "outputId": "ff8c8ffc-bf5d-4f9b-fcac-549820ae6329"
      },
      "outputs": [
        {
          "output_type": "stream",
          "name": "stdout",
          "text": [
            "hola, soy test 1, ¿cual es tu nombre?\n",
            "introduce tu nombre:jose\n",
            "¡Hola jose!\n"
          ]
        }
      ],
      "source": [
        " print(\"hola, soy test 1, ¿cual es tu nombre?\")\n",
        " nombre = input(\"introduce tu nombre:\")\n",
        " if nombre == \"ana\":\n",
        "   print(\"ADIÓS\")\n",
        " elif nombre == \"juan\":\n",
        "   print(\"BYE,BYE\")\n",
        " elif nombre == \"pedro\":\n",
        "   print(\"さよなら\")\n",
        " else:\n",
        "   print (\"¡Hola \" + nombre + \"!\")\n",
        "\n",
        "  \n",
        "\n"
      ]
    },
    {
      "cell_type": "code",
      "execution_count": 136,
      "metadata": {
        "colab": {
          "base_uri": "https://localhost:8080/"
        },
        "id": "oLCwg80wjM5i",
        "outputId": "18da9998-22a4-4ba5-ee80-2d2312544e9e"
      },
      "outputs": [
        {
          "output_type": "stream",
          "name": "stdout",
          "text": [
            "['manzana', 'piña', 'uva', 'platano']\n"
          ]
        }
      ],
      "source": [
        "list = [\"platano\",\"uva\",\"piña\",\"manzana\",\"sandia\"]\n",
        "del list[-1]\n",
        "list.reverse()\n",
        "print(list)"
      ]
    },
    {
      "cell_type": "code",
      "execution_count": 137,
      "metadata": {
        "colab": {
          "base_uri": "https://localhost:8080/"
        },
        "id": "YLwFym5NxeBm",
        "outputId": "9d041af8-3fc1-4a18-e058-ec87b00776b2"
      },
      "outputs": [
        {
          "output_type": "stream",
          "name": "stdout",
          "text": [
            "**********\n",
            "* QUIERO *\n",
            "*  VER   *\n",
            "*   UN   *\n",
            "*   7    *\n",
            "**********\n"
          ]
        }
      ],
      "source": [
        "import time\n",
        "delay = time.sleep\n",
        "print(\"**********\")\n",
        "delay(0.5)\n",
        "print(\"* QUIERO *\")\n",
        "delay(0.5)\n",
        "print(\"*  VER   *\")\n",
        "delay(0.5)\n",
        "print(\"*   UN   *\")\n",
        "delay(0.5)\n",
        "print(\"*   7    *\")\n",
        "delay(0.5)\n",
        "print(\"**********\")\n",
        "delay(0.5)\n"
      ]
    }
  ],
  "metadata": {
    "colab": {
      "collapsed_sections": [],
      "name": " IA_Ejercicio1_JoséSierra_1919693.ipynb",
      "provenance": []
    },
    "kernelspec": {
      "display_name": "Python 3",
      "name": "python3"
    },
    "language_info": {
      "name": "python"
    }
  },
  "nbformat": 4,
  "nbformat_minor": 0
}